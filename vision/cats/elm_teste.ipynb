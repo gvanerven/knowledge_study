{
 "cells": [
  {
   "cell_type": "code",
   "execution_count": null,
   "metadata": {},
   "outputs": [],
   "source": [
    "import os\n",
    "os.environ['TF_CPP_MIN_LOG_LEVEL'] = '3'\n",
    "\n",
    "import tensorflow as tf\n",
    "import matplotlib.image as mp_image\n",
    "import matplotlib.pyplot as plt\n",
    "import numpy as np\n",
    "import random as rd\n"
   ]
  },
  {
   "cell_type": "code",
   "execution_count": null,
   "metadata": {},
   "outputs": [],
   "source": [
    "filename1 = \"../../training_set/training_set/cats/cat.1.jpg\"\n",
    "nermal = mp_image.imread(filename1)\n",
    "\n",
    "\n",
    "# Dimensão\n",
    "print ('\\nDimensões da Imagem: {}'.format(nermal.ndim))\n",
    "\n",
    "# Shape\n",
    "print ('\\nShape da Imagem: {}'.format(nermal.shape))\n",
    "\n",
    "\n",
    "# Imprime a imagem\n",
    "plt.imshow(nermal)\n",
    "plt.show()\n"
   ]
  },
  {
   "cell_type": "code",
   "execution_count": null,
   "metadata": {},
   "outputs": [],
   "source": [
    "nermal_flt = tf.Variable(tf.reshape(nermal/255, shape = (nermal.shape[0]*nermal.shape[1]*nermal.shape[2], -1)), dtype=tf.dtypes.float64)\n",
    "nermal_flt.shape"
   ]
  },
  {
   "cell_type": "code",
   "execution_count": null,
   "metadata": {},
   "outputs": [],
   "source": [
    "nermal_encode = tf.zeros((1, 2048),dtype=tf.dtypes.float64).numpy()\n",
    "nermal_encode"
   ]
  },
  {
   "cell_type": "code",
   "execution_count": null,
   "metadata": {},
   "outputs": [],
   "source": [
    "cat_cols = [rd.randint(0, 2047) for _ in range(40)]\n",
    "len(cat_cols)\n"
   ]
  },
  {
   "cell_type": "code",
   "execution_count": null,
   "metadata": {},
   "outputs": [],
   "source": [
    "for i in cat_cols:\n",
    "    nermal_encode[:,i] = nermal_encode[:,i] + 1.\n",
    "    "
   ]
  },
  {
   "cell_type": "code",
   "execution_count": null,
   "metadata": {},
   "outputs": [],
   "source": [
    "w = tf.Variable(tf.random.normal(shape=(32, nermal.shape[0]*nermal.shape[1]*nermal.shape[2]), dtype=tf.dtypes.float64))\n",
    "print(w[0:10,0])\n",
    "print(w.shape)\n",
    "bias = tf.Variable(tf.random.normal(shape=(32, 1), dtype=tf.dtypes.float64))\n",
    "bias[0:10]"
   ]
  },
  {
   "cell_type": "code",
   "execution_count": null,
   "metadata": {},
   "outputs": [],
   "source": [
    "print(w.shape)\n",
    "print(nermal_flt.shape)\n"
   ]
  },
  {
   "cell_type": "code",
   "execution_count": null,
   "metadata": {},
   "outputs": [],
   "source": [
    "wXa = tf.linalg.matmul(w, nermal_flt)\n",
    "beta = tf.keras.activations.sigmoid(wXa + bias)\n",
    "beta.shape"
   ]
  },
  {
   "cell_type": "code",
   "execution_count": null,
   "metadata": {},
   "outputs": [],
   "source": [
    "print(beta.shape)\n",
    "print(nermal_encode.shape)\n",
    "# HxB = T : B = WxA + b\n",
    "# H = B'T\n",
    "# Hx[wxN * NxM = wxM]\n",
    "# Hx[wxN * Nx1 = wx1] = 1x2048\n",
    "# [2048xw]x[wx1] = 2048x1"
   ]
  },
  {
   "cell_type": "code",
   "execution_count": null,
   "metadata": {},
   "outputs": [],
   "source": [
    "inv_beta = np.linalg.pinv(beta)\n",
    "inv_beta.shape\n"
   ]
  },
  {
   "cell_type": "code",
   "execution_count": null,
   "metadata": {},
   "outputs": [],
   "source": [
    "inv_beta"
   ]
  },
  {
   "cell_type": "code",
   "execution_count": null,
   "metadata": {},
   "outputs": [],
   "source": [
    "H = tf.linalg.matmul(nermal_encode.T, inv_beta)\n",
    "H.shape\n"
   ]
  },
  {
   "cell_type": "code",
   "execution_count": null,
   "metadata": {},
   "outputs": [],
   "source": [
    "H"
   ]
  },
  {
   "cell_type": "code",
   "execution_count": null,
   "metadata": {},
   "outputs": [],
   "source": [
    "nermal_out = tf.linalg.matmul(H, beta)\n",
    "nermal_out"
   ]
  },
  {
   "cell_type": "code",
   "execution_count": null,
   "metadata": {},
   "outputs": [],
   "source": [
    "@tf.function\n",
    "def thr_sig(x, trh=0.5):\n",
    "    if x > trh:\n",
    "        return 1.\n",
    "    else:\n",
    "        return 0.\n",
    "    "
   ]
  },
  {
   "cell_type": "code",
   "execution_count": null,
   "metadata": {},
   "outputs": [],
   "source": [
    "count = 0\n",
    "for i in range(nermal_out.shape[0]):\n",
    "    if thr_sig(nermal_out[i,0] ) > 0 and nermal_encode[0,i] > 0:\n",
    "        print(i, thr_sig(nermal_out[i,0]))\n",
    "        count += 1\n",
    "count"
   ]
  }
 ],
 "metadata": {
  "kernelspec": {
   "display_name": "Python 3",
   "language": "python",
   "name": "python3"
  },
  "language_info": {
   "codemirror_mode": {
    "name": "ipython",
    "version": 3
   },
   "file_extension": ".py",
   "mimetype": "text/x-python",
   "name": "python",
   "nbconvert_exporter": "python",
   "pygments_lexer": "ipython3",
   "version": "3.7.8"
  }
 },
 "nbformat": 4,
 "nbformat_minor": 4
}
