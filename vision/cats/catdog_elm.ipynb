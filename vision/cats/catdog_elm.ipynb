{
 "cells": [
  {
   "cell_type": "code",
   "execution_count": 1,
   "metadata": {
    "_cell_guid": "b1076dfc-b9ad-4769-8c92-a6c4dae69d19",
    "_uuid": "8f2839f25d086af736a60e9eeb907d3b93b6e0e5"
   },
   "outputs": [],
   "source": [
    "# This Python 3 environment comes with many helpful analytics libraries installed\n",
    "# It is defined by the kaggle/python docker image: https://github.com/kaggle/docker-python\n",
    "# For example, here's several helpful packages to load in \n",
    "\n",
    "import numpy as np # linear algebra\n",
    "import pandas as pd # data processing, CSV file I/O (e.g. pd.read_csv)\n",
    "#import cv2\n",
    "#from PIL import Image\n",
    "import torch\n",
    "import os\n",
    "from matplotlib import pyplot as plt\n",
    "import torchvision\n",
    "import torchvision.transforms as transforms\n",
    "from skimage import io\n",
    "device = torch.device(\"cuda:0\" if torch.cuda.is_available() else \"cpu\")\n",
    "\n",
    "%matplotlib inline\n",
    "plt.ion() "
   ]
  },
  {
   "cell_type": "code",
   "execution_count": 2,
   "metadata": {
    "_cell_guid": "79c7e3d0-c299-4dcb-8224-4455121ee9b0",
    "_uuid": "d629ff2d2480ee46fbb7e2d37f6b5fab8052498a"
   },
   "outputs": [
    {
     "name": "stdout",
     "output_type": "stream",
     "text": [
      "5012\n",
      "5019\n",
      "cat-and-dog/test_set/cats/cat.4001.jpg\n",
      "cat-and-dog/dogs/dog.1.jpg\n"
     ]
    }
   ],
   "source": [
    "# Input data files are available in the \"../input/\" directory.\n",
    "# For example, running this (by clicking run or pressing Shift+Enter) will list all files under the input directory\n",
    "filepaths = []\n",
    "grp_dataset = {'cats':[], 'dogs':[]}\n",
    "grp_dataset_nobkg = {'cats':[], 'dogs':[]}\n",
    "dir_cats = 'cat-and-dog/training_set/cats'\n",
    "dir_dogs = 'cat-and-dog/dogs'\n",
    "\n",
    "#test_plane = '/kaggle/input/machine-plane/plane_PNG5238.png'\n",
    "#test_cat = '/kaggle/input/catsnobackground/5a5a8b8b14d8c4188e0b08e7.png'\n",
    "#test_dog = '/kaggle/input/dogsnobackground/dog-png-transparent-background-basset-hound-png-file-324.png'\n",
    "\n",
    "for dirname, _, filenames in os.walk('cat-and-dog'):\n",
    "    for filename in filenames:\n",
    "        filepath = os.path.join(dirname, filename)\n",
    "        aux = filepath.split('/')\n",
    "        if 'dogs' in aux:\n",
    "            grp_dataset['dogs'].append(filepath)\n",
    "        elif 'cats' in aux:\n",
    "            grp_dataset['cats'].append(filepath)\n",
    "#        if 'catsnobackground' in filepath:\n",
    "#            grp_dataset_nobkg['cats'].append(filepath)\n",
    "#        if 'dogsnobackground' in filepath:\n",
    "#            grp_dataset_nobkg['dogs'].append(filepath)\n",
    "\n",
    "# Any results you write to the current directory are saved as output.\n",
    "print(len(grp_dataset['cats']))\n",
    "print(len(grp_dataset['dogs']))\n",
    "print(grp_dataset['cats'][0])\n",
    "print(grp_dataset['dogs'][0])\n",
    "#print(grp_dataset_nobkg['cats'][0])\n",
    "#print(grp_dataset_nobkg['dogs'][0])\n"
   ]
  },
  {
   "cell_type": "code",
   "execution_count": 24,
   "metadata": {},
   "outputs": [],
   "source": [
    "size_img = 200\n",
    "size_crop = 100\n",
    "#transform = transforms.Compose(\n",
    "#    [transforms.ToTensor(),\n",
    "#     transforms.Pad(20, padding_mode='reflect'),\n",
    "#     transforms.Resize((size_img,size_img)),\n",
    "#     transforms.CenterCrop(size_crop),\n",
    "#     transforms.ToTensor(), \n",
    "#     transforms.Normalize((0.5, 0.5, 0.5), (0.5, 0.5, 0.5))])\n",
    "\n",
    "transform = transforms.Compose(\n",
    "    [transforms.ToTensor(), \n",
    "     transforms.Normalize((0.5, 0.5, 0.5), (0.5, 0.5, 0.5))])\n",
    "\n",
    "def load_img(path):\n",
    "    return io.imread(path,mode)\n",
    "\n",
    "def sample_rand(ch, sizeH, sizeW):\n",
    "     return torch.rand((ch, sizeH, sizeW)).unsqueeze(0)\n",
    "    \n",
    "def load_imgs(paths):\n",
    "    for path in paths:\n",
    "        yield load_img(path)\n",
    "    \n",
    "def load_data_img(paths):\n",
    "    for path in paths:\n",
    "        yield transform(load_img(path)).unsqueeze(0)\n"
   ]
  },
  {
   "cell_type": "code",
   "execution_count": null,
   "metadata": {},
   "outputs": [],
   "source": []
  },
  {
   "cell_type": "raw",
   "metadata": {},
   "source": [
    "rnd_nocat = []\n",
    "for i in range(int(len(grp_dataset['cats'])*0.7)):\n",
    "    rnd_nocat.append(sample_rand(3, size_img, size_img))\n",
    "    \n",
    "save_rnds(rnd_nocat)"
   ]
  }
 ],
 "metadata": {
  "kernelspec": {
   "display_name": "Python 3",
   "language": "python",
   "name": "python3"
  },
  "language_info": {
   "codemirror_mode": {
    "name": "ipython",
    "version": 3
   },
   "file_extension": ".py",
   "mimetype": "text/x-python",
   "name": "python",
   "nbconvert_exporter": "python",
   "pygments_lexer": "ipython3",
   "version": "3.8.0"
  }
 },
 "nbformat": 4,
 "nbformat_minor": 4
}
